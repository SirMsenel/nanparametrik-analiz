{
 "cells": [
  {
   "cell_type": "code",
   "execution_count": 1,
   "metadata": {},
   "outputs": [
    {
     "ename": "ModuleNotFoundError",
     "evalue": "No module named 'numpy'",
     "output_type": "error",
     "traceback": [
      "\u001b[0;31m---------------------------------------------------------------------------\u001b[0m",
      "\u001b[0;31mModuleNotFoundError\u001b[0m                       Traceback (most recent call last)",
      "Cell \u001b[0;32mIn[1], line 1\u001b[0m\n\u001b[0;32m----> 1\u001b[0m \u001b[38;5;28;01mimport\u001b[39;00m \u001b[38;5;21;01mnumpy\u001b[39;00m \u001b[38;5;28;01mas\u001b[39;00m \u001b[38;5;21;01mnp\u001b[39;00m \n\u001b[1;32m      2\u001b[0m \u001b[38;5;28;01mimport\u001b[39;00m \u001b[38;5;21;01mpandas\u001b[39;00m \u001b[38;5;28;01mas\u001b[39;00m \u001b[38;5;21;01mpd\u001b[39;00m \n\u001b[1;32m      3\u001b[0m \u001b[38;5;28;01mfrom\u001b[39;00m \u001b[38;5;21;01mmatplotlib\u001b[39;00m \u001b[38;5;28;01mimport\u001b[39;00m pyplot \u001b[38;5;28;01mas\u001b[39;00m plt\n",
      "\u001b[0;31mModuleNotFoundError\u001b[0m: No module named 'numpy'"
     ]
    }
   ],
   "source": [
    "import numpy as np \n",
    "import pandas as pd \n",
    "from matplotlib import pyplot as plt\n",
    "import scipy\n",
    "from scipy.stats import skew \n",
    "from scipy.stats import kurtosis \n",
    "from scipy import stats\n",
    "import statsmodels.api as sm\n",
    "from itertools import combinations\n",
    "from scipy.stats import kruskal\n",
    "import scikit_posthocs as sp"
   ]
  },
  {
   "cell_type": "code",
   "execution_count": null,
   "metadata": {},
   "outputs": [
    {
     "data": {
      "text/html": [
       "<div>\n",
       "<style scoped>\n",
       "    .dataframe tbody tr th:only-of-type {\n",
       "        vertical-align: middle;\n",
       "    }\n",
       "\n",
       "    .dataframe tbody tr th {\n",
       "        vertical-align: top;\n",
       "    }\n",
       "\n",
       "    .dataframe thead th {\n",
       "        text-align: right;\n",
       "    }\n",
       "</style>\n",
       "<table border=\"1\" class=\"dataframe\">\n",
       "  <thead>\n",
       "    <tr style=\"text-align: right;\">\n",
       "      <th></th>\n",
       "      <th>low</th>\n",
       "      <th>medium</th>\n",
       "      <th>high</th>\n",
       "    </tr>\n",
       "  </thead>\n",
       "  <tbody>\n",
       "    <tr>\n",
       "      <th>0</th>\n",
       "      <td>2.57</td>\n",
       "      <td>1.82</td>\n",
       "      <td>6.55</td>\n",
       "    </tr>\n",
       "    <tr>\n",
       "      <th>1</th>\n",
       "      <td>3.70</td>\n",
       "      <td>5.62</td>\n",
       "      <td>4.96</td>\n",
       "    </tr>\n",
       "    <tr>\n",
       "      <th>2</th>\n",
       "      <td>1.80</td>\n",
       "      <td>2.15</td>\n",
       "      <td>3.89</td>\n",
       "    </tr>\n",
       "    <tr>\n",
       "      <th>3</th>\n",
       "      <td>2.45</td>\n",
       "      <td>3.44</td>\n",
       "      <td>3.31</td>\n",
       "    </tr>\n",
       "    <tr>\n",
       "      <th>4</th>\n",
       "      <td>3.21</td>\n",
       "      <td>6.36</td>\n",
       "      <td>4.32</td>\n",
       "    </tr>\n",
       "    <tr>\n",
       "      <th>5</th>\n",
       "      <td>1.54</td>\n",
       "      <td>2.49</td>\n",
       "      <td>7.72</td>\n",
       "    </tr>\n",
       "    <tr>\n",
       "      <th>6</th>\n",
       "      <td>3.07</td>\n",
       "      <td>4.18</td>\n",
       "      <td>3.51</td>\n",
       "    </tr>\n",
       "    <tr>\n",
       "      <th>7</th>\n",
       "      <td>8.00</td>\n",
       "      <td>3.09</td>\n",
       "      <td>3.31</td>\n",
       "    </tr>\n",
       "    <tr>\n",
       "      <th>8</th>\n",
       "      <td>2.40</td>\n",
       "      <td>2.12</td>\n",
       "      <td>4.92</td>\n",
       "    </tr>\n",
       "    <tr>\n",
       "      <th>9</th>\n",
       "      <td>1.38</td>\n",
       "      <td>4.02</td>\n",
       "      <td>4.60</td>\n",
       "    </tr>\n",
       "    <tr>\n",
       "      <th>10</th>\n",
       "      <td>2.57</td>\n",
       "      <td>1.75</td>\n",
       "      <td>3.61</td>\n",
       "    </tr>\n",
       "    <tr>\n",
       "      <th>11</th>\n",
       "      <td>5.82</td>\n",
       "      <td>2.89</td>\n",
       "      <td>4.06</td>\n",
       "    </tr>\n",
       "    <tr>\n",
       "      <th>12</th>\n",
       "      <td>3.88</td>\n",
       "      <td>9.07</td>\n",
       "      <td>3.79</td>\n",
       "    </tr>\n",
       "    <tr>\n",
       "      <th>13</th>\n",
       "      <td>7.16</td>\n",
       "      <td>3.15</td>\n",
       "      <td>3.33</td>\n",
       "    </tr>\n",
       "    <tr>\n",
       "      <th>14</th>\n",
       "      <td>1.20</td>\n",
       "      <td>2.36</td>\n",
       "      <td>5.52</td>\n",
       "    </tr>\n",
       "  </tbody>\n",
       "</table>\n",
       "</div>"
      ],
      "text/plain": [
       "     low  medium  high\n",
       "0   2.57    1.82  6.55\n",
       "1   3.70    5.62  4.96\n",
       "2   1.80    2.15  3.89\n",
       "3   2.45    3.44  3.31\n",
       "4   3.21    6.36  4.32\n",
       "5   1.54    2.49  7.72\n",
       "6   3.07    4.18  3.51\n",
       "7   8.00    3.09  3.31\n",
       "8   2.40    2.12  4.92\n",
       "9   1.38    4.02  4.60\n",
       "10  2.57    1.75  3.61\n",
       "11  5.82    2.89  4.06\n",
       "12  3.88    9.07  3.79\n",
       "13  7.16    3.15  3.33\n",
       "14  1.20    2.36  5.52"
      ]
     },
     "execution_count": 2,
     "metadata": {},
     "output_type": "execute_result"
    }
   ],
   "source": [
    "bağımsız = pd.read_excel(r'C:\\Users\\pc\\Desktop\\nanpar veriler\\75BB7C40.xlsx')\n",
    "bağımsız"
   ]
  },
  {
   "cell_type": "code",
   "execution_count": null,
   "metadata": {},
   "outputs": [
    {
     "data": {
      "text/html": [
       "<div>\n",
       "<style scoped>\n",
       "    .dataframe tbody tr th:only-of-type {\n",
       "        vertical-align: middle;\n",
       "    }\n",
       "\n",
       "    .dataframe tbody tr th {\n",
       "        vertical-align: top;\n",
       "    }\n",
       "\n",
       "    .dataframe thead th {\n",
       "        text-align: right;\n",
       "    }\n",
       "</style>\n",
       "<table border=\"1\" class=\"dataframe\">\n",
       "  <thead>\n",
       "    <tr style=\"text-align: right;\">\n",
       "      <th></th>\n",
       "      <th>low</th>\n",
       "      <th>medium</th>\n",
       "      <th>high</th>\n",
       "    </tr>\n",
       "  </thead>\n",
       "  <tbody>\n",
       "    <tr>\n",
       "      <th>count</th>\n",
       "      <td>15.000000</td>\n",
       "      <td>15.000000</td>\n",
       "      <td>15.000000</td>\n",
       "    </tr>\n",
       "    <tr>\n",
       "      <th>mean</th>\n",
       "      <td>3.383333</td>\n",
       "      <td>3.634000</td>\n",
       "      <td>4.493333</td>\n",
       "    </tr>\n",
       "    <tr>\n",
       "      <th>std</th>\n",
       "      <td>2.067357</td>\n",
       "      <td>2.013529</td>\n",
       "      <td>1.284082</td>\n",
       "    </tr>\n",
       "    <tr>\n",
       "      <th>min</th>\n",
       "      <td>1.200000</td>\n",
       "      <td>1.750000</td>\n",
       "      <td>3.310000</td>\n",
       "    </tr>\n",
       "    <tr>\n",
       "      <th>25%</th>\n",
       "      <td>2.100000</td>\n",
       "      <td>2.255000</td>\n",
       "      <td>3.560000</td>\n",
       "    </tr>\n",
       "    <tr>\n",
       "      <th>50%</th>\n",
       "      <td>2.570000</td>\n",
       "      <td>3.090000</td>\n",
       "      <td>4.060000</td>\n",
       "    </tr>\n",
       "    <tr>\n",
       "      <th>75%</th>\n",
       "      <td>3.790000</td>\n",
       "      <td>4.100000</td>\n",
       "      <td>4.940000</td>\n",
       "    </tr>\n",
       "    <tr>\n",
       "      <th>max</th>\n",
       "      <td>8.000000</td>\n",
       "      <td>9.070000</td>\n",
       "      <td>7.720000</td>\n",
       "    </tr>\n",
       "  </tbody>\n",
       "</table>\n",
       "</div>"
      ],
      "text/plain": [
       "             low     medium       high\n",
       "count  15.000000  15.000000  15.000000\n",
       "mean    3.383333   3.634000   4.493333\n",
       "std     2.067357   2.013529   1.284082\n",
       "min     1.200000   1.750000   3.310000\n",
       "25%     2.100000   2.255000   3.560000\n",
       "50%     2.570000   3.090000   4.060000\n",
       "75%     3.790000   4.100000   4.940000\n",
       "max     8.000000   9.070000   7.720000"
      ]
     },
     "execution_count": 3,
     "metadata": {},
     "output_type": "execute_result"
    }
   ],
   "source": [
    "bağımsız.describe()"
   ]
  },
  {
   "cell_type": "code",
   "execution_count": null,
   "metadata": {},
   "outputs": [
    {
     "data": {
      "text/plain": [
       "array([1.13240532, 1.49703124, 1.27016861])"
      ]
     },
     "execution_count": 4,
     "metadata": {},
     "output_type": "execute_result"
    }
   ],
   "source": [
    "skew(bağımsız, axis=0, bias=True)"
   ]
  },
  {
   "cell_type": "code",
   "execution_count": null,
   "metadata": {},
   "outputs": [
    {
     "data": {
      "text/plain": [
       "array([0.15172462, 1.57407675, 0.80549145])"
      ]
     },
     "execution_count": 5,
     "metadata": {},
     "output_type": "execute_result"
    }
   ],
   "source": [
    "kurtosis(bağımsız, axis=0 ,bias=True)"
   ]
  },
  {
   "cell_type": "code",
   "execution_count": null,
   "metadata": {},
   "outputs": [
    {
     "name": "stdout",
     "output_type": "stream",
     "text": [
      "Test istatistiği :  0.8509675860404968\n",
      "p-value :  0.017922883853316307\n"
     ]
    }
   ],
   "source": [
    "lw = bağımsız.low\n",
    "bg1,bg2 = stats.shapiro(lw)\n",
    "print(\"Test istatistiği : \",bg1)\n",
    "print(\"p-value : \", bg2)"
   ]
  },
  {
   "cell_type": "code",
   "execution_count": null,
   "metadata": {},
   "outputs": [
    {
     "name": "stdout",
     "output_type": "stream",
     "text": [
      "Test istatistiği :  0.8253953456878662\n",
      "p-value :  0.00793540757149458\n"
     ]
    }
   ],
   "source": [
    "md = bağımsız.medium\n",
    "bg1,bg2 = stats.shapiro(md)\n",
    "print(\"Test istatistiği : \",bg1)\n",
    "print(\"p-value : \", bg2)"
   ]
  },
  {
   "cell_type": "code",
   "execution_count": null,
   "metadata": {},
   "outputs": [
    {
     "name": "stdout",
     "output_type": "stream",
     "text": [
      "Test istatistiği :  0.8495509028434753\n",
      "p-value :  0.01711362786591053\n"
     ]
    }
   ],
   "source": [
    "hg = bağımsız.high\n",
    "bg1,bg2 = stats.shapiro(hg)\n",
    "print(\"Test istatistiği : \",bg1)\n",
    "print(\"p-value : \", bg2)"
   ]
  },
  {
   "cell_type": "code",
   "execution_count": null,
   "metadata": {},
   "outputs": [
    {
     "data": {
      "image/png": "[encoded data removed]",
      "text/plain": [
       "<Figure size 640x480 with 1 Axes>"
      ]
     },
     "metadata": {},
     "output_type": "display_data"
    }
   ],
   "source": [
    "sm.qqplot(bağımsız, line='45')\n",
    "plt.title(\"\")\n",
    "plt.xlabel(\"\")\n",
    "plt.ylabel(\"Sample Quantiles\")\n",
    "plt.show()"
   ]
  },
  {
   "cell_type": "code",
   "execution_count": null,
   "metadata": {},
   "outputs": [
    {
     "data": {
      "image/png": "[encoded data removed]",
      "text/plain": [
       "<Figure size 640x480 with 1 Axes>"
      ]
     },
     "metadata": {},
     "output_type": "display_data"
    }
   ],
   "source": [
    "plt.scatter(range(len(bağımsız.low)),bağımsız.low,c= 'black', label = 'low')\n",
    "plt.scatter(range(len(bağımsız.medium)),bağımsız.medium,c= 'orange', label = 'Medium')\n",
    "plt.scatter(range(len(bağımsız.high)),bağımsız.high,c= 'purple', label = 'high')\n",
    "plt.xlabel('Number')\n",
    "plt.ylabel('Price')\n",
    "plt.legend()\n",
    "plt.show()"
   ]
  },
  {
   "cell_type": "code",
   "execution_count": null,
   "metadata": {},
   "outputs": [
    {
     "data": {
      "image/png": "[encoded data removed]",
      "text/plain": [
       "<Figure size 640x480 with 1 Axes>"
      ]
     },
     "metadata": {},
     "output_type": "display_data"
    }
   ],
   "source": [
    "Number = [1,2,3,4,5,6,7,8,9,10,11,12,13,14,15]\n",
    "plt.bar(Number,bağımsız.low, color = \"black\")\n",
    "plt.bar(Number,bağımsız.medium, color = \"orange\")\n",
    "plt.bar(Number,bağımsız.high, color = \"purple\")\n",
    "plt.show()"
   ]
  },
  {
   "cell_type": "code",
   "execution_count": null,
   "metadata": {},
   "outputs": [
    {
     "data": {
      "image/png": "[encoded data removed]",
      "text/plain": [
       "<Figure size 640x480 with 1 Axes>"
      ]
     },
     "metadata": {},
     "output_type": "display_data"
    }
   ],
   "source": [
    "plt.hist(bağımsız.low, color =\"black\" , label = 'low')\n",
    "plt.hist(bağımsız.medium,color =\"orange\" , label = 'medium')\n",
    "plt.hist(bağımsız.high,color =\"purple\" , label = 'high')\n",
    "plt.legend()\n",
    "plt.title('Histogram Graph for Data')\n",
    "plt.xlabel('Number')\n",
    "plt.ylabel('Price')\n",
    "plt.show()"
   ]
  },
  {
   "cell_type": "code",
   "execution_count": null,
   "metadata": {},
   "outputs": [
    {
     "data": {
      "image/png": "[encoded data removed]",
      "text/plain": [
       "<Figure size 640x480 with 1 Axes>"
      ]
     },
     "metadata": {},
     "output_type": "display_data"
    }
   ],
   "source": [
    "plt.plot(bağımsız.low, color =\"black\" , label = 'low')\n",
    "plt.plot(bağımsız.medium,color =\"orange\" , label = 'medium')\n",
    "plt.plot(bağımsız.high,color =\"purple\" , label = 'high')\n",
    "plt.legend()\n",
    "plt.title('Line Graph for Data')\n",
    "plt.xlabel('Number')\n",
    "plt.ylabel('Price')\n",
    "plt.show()"
   ]
  },
  {
   "cell_type": "code",
   "execution_count": null,
   "metadata": {},
   "outputs": [
    {
     "data": {
      "image/png": "[encoded data removed]",
      "text/plain": [
       "<Figure size 640x480 with 1 Axes>"
      ]
     },
     "metadata": {},
     "output_type": "display_data"
    },
    {
     "data": {
      "image/png": "[encoded data removed]",
      "text/plain": [
       "<Figure size 640x480 with 1 Axes>"
      ]
     },
     "metadata": {},
     "output_type": "display_data"
    }
   ],
   "source": [
    "y = [2.067357,2.013529,1.284082]\n",
    "lb = [\"low\",\"medium\",\"hight\"]\n",
    "plt.title(\"Standart Sapma\")\n",
    "plt.pie(y, labels =lb )\n",
    "plt.legend()\n",
    "plt.show()\n",
    "\n",
    "x = [3.383333,\t3.634000,\t4.493333]\n",
    "lb = [\"low\",\"medium\",\"hight\"]\n",
    "plt.title(\"Ortalama\")\n",
    "plt.pie(x, labels =lb )\n",
    "plt.legend()\n",
    "plt.show()"
   ]
  },
  {
   "cell_type": "code",
   "execution_count": null,
   "metadata": {},
   "outputs": [],
   "source": []
  },
  {
   "cell_type": "code",
   "execution_count": null,
   "metadata": {},
   "outputs": [
    {
     "data": {
      "text/plain": [
       "WilcoxonResult(statistic=74.5, pvalue=0.8029247458745191)"
      ]
     },
     "execution_count": 15,
     "metadata": {},
     "output_type": "execute_result"
    }
   ],
   "source": [
    "e=hg.median()\n",
    "from scipy.stats import wilcoxon\n",
    "wilcoxon(hg - e,\n",
    "alternative = 'less',\n",
    "method = 'approx',\n",
    "zero_method = 'zsplit',\n",
    "correction = True)"
   ]
  },
  {
   "cell_type": "code",
   "execution_count": null,
   "metadata": {},
   "outputs": [
    {
     "data": {
      "text/plain": [
       "BinomTestResult(k=7, n=14, alternative='less', statistic=0.5, pvalue=0.604736328125)"
      ]
     },
     "execution_count": 16,
     "metadata": {},
     "output_type": "execute_result"
    }
   ],
   "source": [
    "from scipy.stats import binomtest\n",
    "nPlus = len(hg[hg > e])\n",
    "nNeg = len(hg[hg < e])\n",
    "n = nPlus + nNeg\n",
    "binomtest(nPlus, n, p=0.5, alternative='less')\n"
   ]
  },
  {
   "cell_type": "code",
   "execution_count": null,
   "metadata": {},
   "outputs": [
    {
     "name": "stdout",
     "output_type": "stream",
     "text": [
      "düşük ve orta :\n",
      "istatistiksel değer : 100.0\n",
      "p-value:  \n",
      " 0.6186305224456992\n",
      "düşük ve yüksek :\n",
      "istatistiksel değer : 53.0\n",
      "p-value:  \n",
      " 0.014375111660888815\n",
      "orta ve yüksek :\n",
      "istatistiksel değer : 59.0\n",
      "p-value:  \n",
      " 0.027907646278761626\n"
     ]
    }
   ],
   "source": [
    "group = [lw,md,hg]\n",
    "groupname = ['düşük', 'orta', 'yüksek']\n",
    "comb =(zip(group,groupname))\n",
    "for grup1 , grup2 in combinations(comb , 2 ):\n",
    "    mwd , mwp =stats.mannwhitneyu(grup1[0],grup2[0])\n",
    "    print(f\"{grup1[1]} ve {grup2[1]} :\")\n",
    "    print(\"istatistiksel değer :\", mwd)\n",
    "    print(\"p-value:  \\n\", mwp)\n"
   ]
  },
  {
   "cell_type": "code",
   "execution_count": null,
   "metadata": {},
   "outputs": [
    {
     "data": {
      "text/plain": [
       "KruskalResult(statistic=7.589019194448124, pvalue=0.022493934200113103)"
      ]
     },
     "execution_count": 18,
     "metadata": {},
     "output_type": "execute_result"
    }
   ],
   "source": [
    "stats.kruskal(lw,md,hg)"
   ]
  },
  {
   "cell_type": "code",
   "execution_count": null,
   "metadata": {},
   "outputs": [
    {
     "data": {
      "text/html": [
       "<div>\n",
       "<style scoped>\n",
       "    .dataframe tbody tr th:only-of-type {\n",
       "        vertical-align: middle;\n",
       "    }\n",
       "\n",
       "    .dataframe tbody tr th {\n",
       "        vertical-align: top;\n",
       "    }\n",
       "\n",
       "    .dataframe thead th {\n",
       "        text-align: right;\n",
       "    }\n",
       "</style>\n",
       "<table border=\"1\" class=\"dataframe\">\n",
       "  <thead>\n",
       "    <tr style=\"text-align: right;\">\n",
       "      <th></th>\n",
       "      <th>1</th>\n",
       "      <th>2</th>\n",
       "      <th>3</th>\n",
       "    </tr>\n",
       "  </thead>\n",
       "  <tbody>\n",
       "    <tr>\n",
       "      <th>1</th>\n",
       "      <td>1.000000</td>\n",
       "      <td>1.000000</td>\n",
       "      <td>0.030347</td>\n",
       "    </tr>\n",
       "    <tr>\n",
       "      <th>2</th>\n",
       "      <td>1.000000</td>\n",
       "      <td>1.000000</td>\n",
       "      <td>0.096849</td>\n",
       "    </tr>\n",
       "    <tr>\n",
       "      <th>3</th>\n",
       "      <td>0.030347</td>\n",
       "      <td>0.096849</td>\n",
       "      <td>1.000000</td>\n",
       "    </tr>\n",
       "  </tbody>\n",
       "</table>\n",
       "</div>"
      ],
      "text/plain": [
       "          1         2         3\n",
       "1  1.000000  1.000000  0.030347\n",
       "2  1.000000  1.000000  0.096849\n",
       "3  0.030347  0.096849  1.000000"
      ]
     },
     "execution_count": 19,
     "metadata": {},
     "output_type": "execute_result"
    }
   ],
   "source": [
    "sp.posthoc_dunn(group, p_adjust = 'bonferroni')"
   ]
  },
  {
   "cell_type": "code",
   "execution_count": null,
   "metadata": {},
   "outputs": [
    {
     "data": {
      "text/html": [
       "<div>\n",
       "<style scoped>\n",
       "    .dataframe tbody tr th:only-of-type {\n",
       "        vertical-align: middle;\n",
       "    }\n",
       "\n",
       "    .dataframe tbody tr th {\n",
       "        vertical-align: top;\n",
       "    }\n",
       "\n",
       "    .dataframe thead th {\n",
       "        text-align: right;\n",
       "    }\n",
       "</style>\n",
       "<table border=\"1\" class=\"dataframe\">\n",
       "  <thead>\n",
       "    <tr style=\"text-align: right;\">\n",
       "      <th></th>\n",
       "      <th>Ülke</th>\n",
       "      <th>ikibinonbeş</th>\n",
       "      <th>ikibinondokuz</th>\n",
       "      <th>ikibinyirmiüç</th>\n",
       "    </tr>\n",
       "  </thead>\n",
       "  <tbody>\n",
       "    <tr>\n",
       "      <th>0</th>\n",
       "      <td>Almanya</td>\n",
       "      <td>14.49</td>\n",
       "      <td>16.61</td>\n",
       "      <td>21.14</td>\n",
       "    </tr>\n",
       "    <tr>\n",
       "      <th>1</th>\n",
       "      <td>ABD</td>\n",
       "      <td>7.01</td>\n",
       "      <td>8.97</td>\n",
       "      <td>16.88</td>\n",
       "    </tr>\n",
       "    <tr>\n",
       "      <th>2</th>\n",
       "      <td>Irak</td>\n",
       "      <td>9.96</td>\n",
       "      <td>10.22</td>\n",
       "      <td>13.75</td>\n",
       "    </tr>\n",
       "    <tr>\n",
       "      <th>3</th>\n",
       "      <td>Birleşik Krallık</td>\n",
       "      <td>10.82</td>\n",
       "      <td>11.27</td>\n",
       "      <td>13.00</td>\n",
       "    </tr>\n",
       "    <tr>\n",
       "      <th>4</th>\n",
       "      <td>İtalya</td>\n",
       "      <td>7.15</td>\n",
       "      <td>9.75</td>\n",
       "      <td>12.38</td>\n",
       "    </tr>\n",
       "    <tr>\n",
       "      <th>5</th>\n",
       "      <td>İspanya</td>\n",
       "      <td>4.94</td>\n",
       "      <td>8.13</td>\n",
       "      <td>9.65</td>\n",
       "    </tr>\n",
       "    <tr>\n",
       "      <th>6</th>\n",
       "      <td>Fransa</td>\n",
       "      <td>6.10</td>\n",
       "      <td>7.94</td>\n",
       "      <td>9.53</td>\n",
       "    </tr>\n",
       "    <tr>\n",
       "      <th>7</th>\n",
       "      <td>Rusya Federasyonu</td>\n",
       "      <td>3.68</td>\n",
       "      <td>4.15</td>\n",
       "      <td>9.34</td>\n",
       "    </tr>\n",
       "    <tr>\n",
       "      <th>8</th>\n",
       "      <td>Hollanda</td>\n",
       "      <td>3.35</td>\n",
       "      <td>5.76</td>\n",
       "      <td>8.02</td>\n",
       "    </tr>\n",
       "    <tr>\n",
       "      <th>9</th>\n",
       "      <td>İsrail</td>\n",
       "      <td>2.80</td>\n",
       "      <td>4.46</td>\n",
       "      <td>7.03</td>\n",
       "    </tr>\n",
       "    <tr>\n",
       "      <th>10</th>\n",
       "      <td>Romanya</td>\n",
       "      <td>2.92</td>\n",
       "      <td>4.07</td>\n",
       "      <td>6.94</td>\n",
       "    </tr>\n",
       "    <tr>\n",
       "      <th>11</th>\n",
       "      <td>Polonya</td>\n",
       "      <td>2.42</td>\n",
       "      <td>3.44</td>\n",
       "      <td>5.17</td>\n",
       "    </tr>\n",
       "    <tr>\n",
       "      <th>12</th>\n",
       "      <td>BAE</td>\n",
       "      <td>4.93</td>\n",
       "      <td>3.62</td>\n",
       "      <td>5.25</td>\n",
       "    </tr>\n",
       "    <tr>\n",
       "      <th>13</th>\n",
       "      <td>Belçika</td>\n",
       "      <td>2.72</td>\n",
       "      <td>3.39</td>\n",
       "      <td>4.77</td>\n",
       "    </tr>\n",
       "    <tr>\n",
       "      <th>14</th>\n",
       "      <td>Bulgaristan</td>\n",
       "      <td>1.76</td>\n",
       "      <td>2.66</td>\n",
       "      <td>4.72</td>\n",
       "    </tr>\n",
       "    <tr>\n",
       "      <th>15</th>\n",
       "      <td>Mısır</td>\n",
       "      <td>3.24</td>\n",
       "      <td>3.50</td>\n",
       "      <td>4.55</td>\n",
       "    </tr>\n",
       "    <tr>\n",
       "      <th>16</th>\n",
       "      <td>Yunanistan</td>\n",
       "      <td>1.48</td>\n",
       "      <td>2.24</td>\n",
       "      <td>3.30</td>\n",
       "    </tr>\n",
       "    <tr>\n",
       "      <th>17</th>\n",
       "      <td>Çin</td>\n",
       "      <td>2.50</td>\n",
       "      <td>2.72</td>\n",
       "      <td>3.28</td>\n",
       "    </tr>\n",
       "    <tr>\n",
       "      <th>18</th>\n",
       "      <td>Fas</td>\n",
       "      <td>1.37</td>\n",
       "      <td>2.34</td>\n",
       "      <td>3.09</td>\n",
       "    </tr>\n",
       "    <tr>\n",
       "      <th>19</th>\n",
       "      <td>İran</td>\n",
       "      <td>4.11</td>\n",
       "      <td>2.73</td>\n",
       "      <td>3.06</td>\n",
       "    </tr>\n",
       "  </tbody>\n",
       "</table>\n",
       "</div>"
      ],
      "text/plain": [
       "                 Ülke  ikibinonbeş  ikibinondokuz  ikibinyirmiüç\n",
       "0             Almanya        14.49          16.61          21.14\n",
       "1                 ABD         7.01           8.97          16.88\n",
       "2                Irak         9.96          10.22          13.75\n",
       "3    Birleşik Krallık        10.82          11.27          13.00\n",
       "4              İtalya         7.15           9.75          12.38\n",
       "5             İspanya         4.94           8.13           9.65\n",
       "6              Fransa         6.10           7.94           9.53\n",
       "7   Rusya Federasyonu         3.68           4.15           9.34\n",
       "8            Hollanda         3.35           5.76           8.02\n",
       "9              İsrail         2.80           4.46           7.03\n",
       "10            Romanya         2.92           4.07           6.94\n",
       "11            Polonya         2.42           3.44           5.17\n",
       "12                BAE         4.93           3.62           5.25\n",
       "13            Belçika         2.72           3.39           4.77\n",
       "14        Bulgaristan         1.76           2.66           4.72\n",
       "15              Mısır         3.24           3.50           4.55\n",
       "16         Yunanistan         1.48           2.24           3.30\n",
       "17                Çin         2.50           2.72           3.28\n",
       "18                Fas         1.37           2.34           3.09\n",
       "19               İran         4.11           2.73           3.06"
      ]
     },
     "execution_count": 20,
     "metadata": {},
     "output_type": "execute_result"
    }
   ],
   "source": [
    "bağımlı = pd.read_excel(r'C:\\Users\\pc\\Desktop\\nanpar veriler\\bağımlı.xls')\n",
    "bağımlı"
   ]
  },
  {
   "cell_type": "code",
   "execution_count": null,
   "metadata": {},
   "outputs": [
    {
     "data": {
      "text/html": [
       "<div>\n",
       "<style scoped>\n",
       "    .dataframe tbody tr th:only-of-type {\n",
       "        vertical-align: middle;\n",
       "    }\n",
       "\n",
       "    .dataframe tbody tr th {\n",
       "        vertical-align: top;\n",
       "    }\n",
       "\n",
       "    .dataframe thead th {\n",
       "        text-align: right;\n",
       "    }\n",
       "</style>\n",
       "<table border=\"1\" class=\"dataframe\">\n",
       "  <thead>\n",
       "    <tr style=\"text-align: right;\">\n",
       "      <th></th>\n",
       "      <th>ikibinonbeş</th>\n",
       "      <th>ikibinondokuz</th>\n",
       "      <th>ikibinyirmiüç</th>\n",
       "    </tr>\n",
       "  </thead>\n",
       "  <tbody>\n",
       "    <tr>\n",
       "      <th>count</th>\n",
       "      <td>20.000000</td>\n",
       "      <td>20.000000</td>\n",
       "      <td>20.000000</td>\n",
       "    </tr>\n",
       "    <tr>\n",
       "      <th>mean</th>\n",
       "      <td>4.887500</td>\n",
       "      <td>5.898500</td>\n",
       "      <td>8.242500</td>\n",
       "    </tr>\n",
       "    <tr>\n",
       "      <th>std</th>\n",
       "      <td>3.478148</td>\n",
       "      <td>3.867054</td>\n",
       "      <td>5.016048</td>\n",
       "    </tr>\n",
       "    <tr>\n",
       "      <th>min</th>\n",
       "      <td>1.370000</td>\n",
       "      <td>2.240000</td>\n",
       "      <td>3.060000</td>\n",
       "    </tr>\n",
       "    <tr>\n",
       "      <th>25%</th>\n",
       "      <td>2.665000</td>\n",
       "      <td>3.225000</td>\n",
       "      <td>4.677500</td>\n",
       "    </tr>\n",
       "    <tr>\n",
       "      <th>50%</th>\n",
       "      <td>3.515000</td>\n",
       "      <td>4.110000</td>\n",
       "      <td>6.985000</td>\n",
       "    </tr>\n",
       "    <tr>\n",
       "      <th>75%</th>\n",
       "      <td>6.327500</td>\n",
       "      <td>8.340000</td>\n",
       "      <td>10.332500</td>\n",
       "    </tr>\n",
       "    <tr>\n",
       "      <th>max</th>\n",
       "      <td>14.490000</td>\n",
       "      <td>16.610000</td>\n",
       "      <td>21.140000</td>\n",
       "    </tr>\n",
       "  </tbody>\n",
       "</table>\n",
       "</div>"
      ],
      "text/plain": [
       "       ikibinonbeş  ikibinondokuz  ikibinyirmiüç\n",
       "count    20.000000      20.000000      20.000000\n",
       "mean      4.887500       5.898500       8.242500\n",
       "std       3.478148       3.867054       5.016048\n",
       "min       1.370000       2.240000       3.060000\n",
       "25%       2.665000       3.225000       4.677500\n",
       "50%       3.515000       4.110000       6.985000\n",
       "75%       6.327500       8.340000      10.332500\n",
       "max      14.490000      16.610000      21.140000"
      ]
     },
     "execution_count": 21,
     "metadata": {},
     "output_type": "execute_result"
    }
   ],
   "source": [
    "bağımlı.describe()"
   ]
  },
  {
   "cell_type": "code",
   "execution_count": null,
   "metadata": {},
   "outputs": [
    {
     "data": {
      "text/plain": [
       "1.3707563984153066"
      ]
     },
     "execution_count": 22,
     "metadata": {},
     "output_type": "execute_result"
    }
   ],
   "source": [
    "onbeş = bağımlı.ikibinonbeş\n",
    "ondokuz = bağımlı.ikibinondokuz\n",
    "yirmiüç = bağımlı.ikibinyirmiüç\n",
    "skew(onbeş, axis=0, bias=True)"
   ]
  },
  {
   "cell_type": "code",
   "execution_count": null,
   "metadata": {},
   "outputs": [
    {
     "data": {
      "text/plain": [
       "1.2211877224149343"
      ]
     },
     "execution_count": 23,
     "metadata": {},
     "output_type": "execute_result"
    }
   ],
   "source": [
    "skew(ondokuz, axis=0, bias=True)"
   ]
  },
  {
   "cell_type": "code",
   "execution_count": null,
   "metadata": {},
   "outputs": [
    {
     "data": {
      "text/plain": [
       "1.038413278382718"
      ]
     },
     "execution_count": 24,
     "metadata": {},
     "output_type": "execute_result"
    }
   ],
   "source": [
    "skew(yirmiüç, axis=0, bias=True)"
   ]
  },
  {
   "cell_type": "code",
   "execution_count": null,
   "metadata": {},
   "outputs": [
    {
     "data": {
      "text/plain": [
       "1.1551513492531216"
      ]
     },
     "execution_count": 25,
     "metadata": {},
     "output_type": "execute_result"
    }
   ],
   "source": [
    "kurtosis(onbeş, axis=0 ,bias=True)"
   ]
  },
  {
   "cell_type": "code",
   "execution_count": null,
   "metadata": {},
   "outputs": [
    {
     "data": {
      "text/plain": [
       "0.8425518092387398"
      ]
     },
     "execution_count": 26,
     "metadata": {},
     "output_type": "execute_result"
    }
   ],
   "source": [
    "kurtosis(ondokuz, axis=0 ,bias=True)"
   ]
  },
  {
   "cell_type": "code",
   "execution_count": null,
   "metadata": {},
   "outputs": [
    {
     "data": {
      "text/plain": [
       "0.3482285826895639"
      ]
     },
     "execution_count": 27,
     "metadata": {},
     "output_type": "execute_result"
    }
   ],
   "source": [
    "kurtosis(yirmiüç, axis=0 ,bias=True)"
   ]
  },
  {
   "cell_type": "code",
   "execution_count": null,
   "metadata": {},
   "outputs": [
    {
     "data": {
      "text/plain": [
       "ShapiroResult(statistic=0.8419543504714966, pvalue=0.003919442184269428)"
      ]
     },
     "execution_count": 28,
     "metadata": {},
     "output_type": "execute_result"
    }
   ],
   "source": [
    "ob= stats.shapiro(onbeş)\n",
    "ob"
   ]
  },
  {
   "cell_type": "code",
   "execution_count": null,
   "metadata": {},
   "outputs": [
    {
     "data": {
      "text/plain": [
       "ShapiroResult(statistic=0.8360551595687866, pvalue=0.003140056738629937)"
      ]
     },
     "execution_count": 29,
     "metadata": {},
     "output_type": "execute_result"
    }
   ],
   "source": [
    "od = stats.shapiro(ondokuz)\n",
    "od"
   ]
  },
  {
   "cell_type": "code",
   "execution_count": null,
   "metadata": {},
   "outputs": [
    {
     "data": {
      "text/plain": [
       "ShapiroResult(statistic=0.8851362466812134, pvalue=0.0219122301787138)"
      ]
     },
     "execution_count": 30,
     "metadata": {},
     "output_type": "execute_result"
    }
   ],
   "source": [
    "yü = stats.shapiro(yirmiüç)\n",
    "yü"
   ]
  },
  {
   "cell_type": "code",
   "execution_count": null,
   "metadata": {},
   "outputs": [
    {
     "data": {
      "text/html": [
       "<div>\n",
       "<style scoped>\n",
       "    .dataframe tbody tr th:only-of-type {\n",
       "        vertical-align: middle;\n",
       "    }\n",
       "\n",
       "    .dataframe tbody tr th {\n",
       "        vertical-align: top;\n",
       "    }\n",
       "\n",
       "    .dataframe thead th {\n",
       "        text-align: right;\n",
       "    }\n",
       "</style>\n",
       "<table border=\"1\" class=\"dataframe\">\n",
       "  <thead>\n",
       "    <tr style=\"text-align: right;\">\n",
       "      <th></th>\n",
       "      <th>0</th>\n",
       "      <th>1</th>\n",
       "      <th>2</th>\n",
       "      <th>3</th>\n",
       "      <th>4</th>\n",
       "      <th>5</th>\n",
       "      <th>6</th>\n",
       "      <th>7</th>\n",
       "      <th>8</th>\n",
       "      <th>9</th>\n",
       "      <th>10</th>\n",
       "      <th>11</th>\n",
       "      <th>12</th>\n",
       "      <th>13</th>\n",
       "      <th>14</th>\n",
       "      <th>15</th>\n",
       "      <th>16</th>\n",
       "      <th>17</th>\n",
       "      <th>18</th>\n",
       "      <th>19</th>\n",
       "    </tr>\n",
       "  </thead>\n",
       "  <tbody>\n",
       "    <tr>\n",
       "      <th>ikibinonbeş</th>\n",
       "      <td>14.49</td>\n",
       "      <td>7.01</td>\n",
       "      <td>9.96</td>\n",
       "      <td>10.82</td>\n",
       "      <td>7.15</td>\n",
       "      <td>4.94</td>\n",
       "      <td>6.10</td>\n",
       "      <td>3.68</td>\n",
       "      <td>3.35</td>\n",
       "      <td>2.80</td>\n",
       "      <td>2.92</td>\n",
       "      <td>2.42</td>\n",
       "      <td>4.93</td>\n",
       "      <td>2.72</td>\n",
       "      <td>1.76</td>\n",
       "      <td>3.24</td>\n",
       "      <td>1.48</td>\n",
       "      <td>2.50</td>\n",
       "      <td>1.37</td>\n",
       "      <td>4.11</td>\n",
       "    </tr>\n",
       "    <tr>\n",
       "      <th>ikibinondokuz</th>\n",
       "      <td>16.61</td>\n",
       "      <td>8.97</td>\n",
       "      <td>10.22</td>\n",
       "      <td>11.27</td>\n",
       "      <td>9.75</td>\n",
       "      <td>8.13</td>\n",
       "      <td>7.94</td>\n",
       "      <td>4.15</td>\n",
       "      <td>5.76</td>\n",
       "      <td>4.46</td>\n",
       "      <td>4.07</td>\n",
       "      <td>3.44</td>\n",
       "      <td>3.62</td>\n",
       "      <td>3.39</td>\n",
       "      <td>2.66</td>\n",
       "      <td>3.50</td>\n",
       "      <td>2.24</td>\n",
       "      <td>2.72</td>\n",
       "      <td>2.34</td>\n",
       "      <td>2.73</td>\n",
       "    </tr>\n",
       "    <tr>\n",
       "      <th>ikibinyirmiüç</th>\n",
       "      <td>21.14</td>\n",
       "      <td>16.88</td>\n",
       "      <td>13.75</td>\n",
       "      <td>13.00</td>\n",
       "      <td>12.38</td>\n",
       "      <td>9.65</td>\n",
       "      <td>9.53</td>\n",
       "      <td>9.34</td>\n",
       "      <td>8.02</td>\n",
       "      <td>7.03</td>\n",
       "      <td>6.94</td>\n",
       "      <td>5.17</td>\n",
       "      <td>5.25</td>\n",
       "      <td>4.77</td>\n",
       "      <td>4.72</td>\n",
       "      <td>4.55</td>\n",
       "      <td>3.30</td>\n",
       "      <td>3.28</td>\n",
       "      <td>3.09</td>\n",
       "      <td>3.06</td>\n",
       "    </tr>\n",
       "  </tbody>\n",
       "</table>\n",
       "</div>"
      ],
      "text/plain": [
       "                  0      1      2      3      4     5     6     7     8   \\\n",
       "ikibinonbeş    14.49   7.01   9.96  10.82   7.15  4.94  6.10  3.68  3.35   \n",
       "ikibinondokuz  16.61   8.97  10.22  11.27   9.75  8.13  7.94  4.15  5.76   \n",
       "ikibinyirmiüç  21.14  16.88  13.75  13.00  12.38  9.65  9.53  9.34  8.02   \n",
       "\n",
       "                 9     10    11    12    13    14    15    16    17    18  \\\n",
       "ikibinonbeş    2.80  2.92  2.42  4.93  2.72  1.76  3.24  1.48  2.50  1.37   \n",
       "ikibinondokuz  4.46  4.07  3.44  3.62  3.39  2.66  3.50  2.24  2.72  2.34   \n",
       "ikibinyirmiüç  7.03  6.94  5.17  5.25  4.77  4.72  4.55  3.30  3.28  3.09   \n",
       "\n",
       "                 19  \n",
       "ikibinonbeş    4.11  \n",
       "ikibinondokuz  2.73  \n",
       "ikibinyirmiüç  3.06  "
      ]
     },
     "execution_count": 31,
     "metadata": {},
     "output_type": "execute_result"
    }
   ],
   "source": [
    "bağımlı1 = [onbeş,ondokuz,yirmiüç]\n",
    "bağ2 = pd.DataFrame(bağımlı1)\n",
    "bağ2"
   ]
  },
  {
   "cell_type": "code",
   "execution_count": null,
   "metadata": {},
   "outputs": [
    {
     "data": {
      "image/png": "[encoded data removed]",
      "text/plain": [
       "<Figure size 640x480 with 1 Axes>"
      ]
     },
     "metadata": {},
     "output_type": "display_data"
    }
   ],
   "source": [
    "sm.qqplot(bağ2, line='45')\n",
    "plt.xlabel(\"\")\n",
    "plt.ylabel(\"Sample Quantiles\")\n",
    "plt.show()"
   ]
  },
  {
   "cell_type": "code",
   "execution_count": null,
   "metadata": {},
   "outputs": [
    {
     "data": {
      "image/png": "[encoded data removed]",
      "text/plain": [
       "<Figure size 640x480 with 1 Axes>"
      ]
     },
     "metadata": {},
     "output_type": "display_data"
    }
   ],
   "source": [
    "plt.scatter(range(len(bağımlı.ikibinonbeş)),bağımlı.ikibinonbeş,c= 'black', label = '2015')\n",
    "plt.scatter(range(len(bağımlı.ikibinondokuz)),bağımlı.ikibinondokuz,c= 'orange', label = '2019')\n",
    "plt.scatter(range(len(bağımlı.ikibinyirmiüç)),bağımlı.ikibinyirmiüç,c= 'purple', label = '2023')\n",
    "plt.xlabel('Number')\n",
    "plt.ylabel('Price')\n",
    "plt.legend()\n",
    "plt.show()"
   ]
  },
  {
   "cell_type": "code",
   "execution_count": null,
   "metadata": {},
   "outputs": [
    {
     "data": {
      "image/png": "[encoded data removed]",
      "text/plain": [
       "<Figure size 640x480 with 1 Axes>"
      ]
     },
     "metadata": {},
     "output_type": "display_data"
    }
   ],
   "source": [
    "Number = [1,2,3,4,5,6,7,8,9,10,11,12,13,14,15,16,17,18,19,20]\n",
    "plt.bar(Number,yirmiüç, color = \"red\")\n",
    "plt.bar(Number,ondokuz, color = \"orange\")\n",
    "plt.bar(Number,onbeş, color = \"purple\")\n",
    "plt.show()"
   ]
  },
  {
   "cell_type": "code",
   "execution_count": null,
   "metadata": {},
   "outputs": [
    {
     "data": {
      "image/png": "[encoded data removed]",
      "text/plain": [
       "<Figure size 640x480 with 1 Axes>"
      ]
     },
     "metadata": {},
     "output_type": "display_data"
    }
   ],
   "source": [
    "plt.hist(onbeş, color =\"black\" , label = '2015')\n",
    "plt.hist(ondokuz,color =\"orange\" , label = '2019')\n",
    "plt.hist(yirmiüç,color =\"purple\" , label = '2023')\n",
    "plt.legend()\n",
    "plt.title('Histogram Graph for Data')\n",
    "plt.xlabel('Number')\n",
    "plt.ylabel('Price')\n",
    "plt.show()"
   ]
  },
  {
   "cell_type": "code",
   "execution_count": null,
   "metadata": {},
   "outputs": [
    {
     "data": {
      "image/png": "[encoded data removed]",
      "text/plain": [
       "<Figure size 640x480 with 1 Axes>"
      ]
     },
     "metadata": {},
     "output_type": "display_data"
    }
   ],
   "source": [
    "plt.plot(onbeş, color =\"black\" , label = '2015')\n",
    "plt.plot(ondokuz,color =\"orange\" , label = '2019')\n",
    "plt.plot(yirmiüç,color =\"purple\" , label = '2023')\n",
    "plt.legend()\n",
    "plt.title('Line Graph for Data')\n",
    "plt.xlabel('Number')\n",
    "plt.ylabel('Price')\n",
    "plt.show()"
   ]
  },
  {
   "cell_type": "code",
   "execution_count": null,
   "metadata": {},
   "outputs": [
    {
     "data": {
      "image/png": "[encoded data removed]",
      "text/plain": [
       "<Figure size 640x480 with 1 Axes>"
      ]
     },
     "metadata": {},
     "output_type": "display_data"
    },
    {
     "data": {
      "image/png": "[encoded data removed]",
      "text/plain": [
       "<Figure size 640x480 with 1 Axes>"
      ]
     },
     "metadata": {},
     "output_type": "display_data"
    }
   ],
   "source": [
    "y = [4.887500,\t5.898500,\t8.242500]\n",
    "lb = [\"2015\",\"2019\",\"2023\"]\n",
    "plt.title(\"Ortlama ihracat\")\n",
    "plt.pie(y, labels =lb )\n",
    "plt.legend()\n",
    "plt.show()\n",
    "\n",
    "x = [3.478148,\t3.867054,\t5.016048]\n",
    "lb = [\"2015\",\"2019\",\"2023\"]\n",
    "plt.title(\"Ortalama\")\n",
    "plt.pie(x, labels =lb )\n",
    "plt.legend()\n",
    "plt.show()"
   ]
  },
  {
   "cell_type": "code",
   "execution_count": null,
   "metadata": {},
   "outputs": [
    {
     "data": {
      "text/plain": [
       "WilcoxonResult(statistic=0.0, pvalue=0.9999590202102997)"
      ]
     },
     "execution_count": 38,
     "metadata": {},
     "output_type": "execute_result"
    }
   ],
   "source": [
    "##wilcoxon testi\n",
    "stats.wilcoxon(ondokuz, yirmiüç,\n",
    "alternative='greater',\n",
    "method = 'approx',\n",
    "zero_method = 'zsplit',\n",
    "correction = True)"
   ]
  },
  {
   "cell_type": "code",
   "execution_count": null,
   "metadata": {},
   "outputs": [
    {
     "data": {
      "text/plain": [
       "FriedmanchisquareResult(statistic=32.69999999999999, pvalue=7.930219729907684e-08)"
      ]
     },
     "execution_count": 39,
     "metadata": {},
     "output_type": "execute_result"
    }
   ],
   "source": [
    "stats.friedmanchisquare(onbeş,ondokuz,yirmiüç)"
   ]
  },
  {
   "cell_type": "code",
   "execution_count": null,
   "metadata": {},
   "outputs": [
    {
     "data": {
      "text/html": [
       "<div>\n",
       "<style scoped>\n",
       "    .dataframe tbody tr th:only-of-type {\n",
       "        vertical-align: middle;\n",
       "    }\n",
       "\n",
       "    .dataframe tbody tr th {\n",
       "        vertical-align: top;\n",
       "    }\n",
       "\n",
       "    .dataframe thead th {\n",
       "        text-align: right;\n",
       "    }\n",
       "</style>\n",
       "<table border=\"1\" class=\"dataframe\">\n",
       "  <thead>\n",
       "    <tr style=\"text-align: right;\">\n",
       "      <th></th>\n",
       "      <th>0</th>\n",
       "      <th>1</th>\n",
       "      <th>2</th>\n",
       "      <th>3</th>\n",
       "      <th>4</th>\n",
       "      <th>5</th>\n",
       "      <th>6</th>\n",
       "      <th>7</th>\n",
       "      <th>8</th>\n",
       "      <th>9</th>\n",
       "      <th>10</th>\n",
       "      <th>11</th>\n",
       "      <th>12</th>\n",
       "      <th>13</th>\n",
       "      <th>14</th>\n",
       "      <th>15</th>\n",
       "      <th>16</th>\n",
       "      <th>17</th>\n",
       "      <th>18</th>\n",
       "      <th>19</th>\n",
       "    </tr>\n",
       "  </thead>\n",
       "  <tbody>\n",
       "    <tr>\n",
       "      <th>0</th>\n",
       "      <td>1.000000</td>\n",
       "      <td>0.900000</td>\n",
       "      <td>0.900000</td>\n",
       "      <td>0.900000</td>\n",
       "      <td>0.900000</td>\n",
       "      <td>0.900000</td>\n",
       "      <td>0.900000</td>\n",
       "      <td>0.900000</td>\n",
       "      <td>0.900000</td>\n",
       "      <td>0.854289</td>\n",
       "      <td>0.763186</td>\n",
       "      <td>0.336284</td>\n",
       "      <td>0.899837</td>\n",
       "      <td>0.336284</td>\n",
       "      <td>0.102152</td>\n",
       "      <td>0.489674</td>\n",
       "      <td>0.034287</td>\n",
       "      <td>0.102152</td>\n",
       "      <td>0.021016</td>\n",
       "      <td>0.291376</td>\n",
       "    </tr>\n",
       "    <tr>\n",
       "      <th>1</th>\n",
       "      <td>0.900000</td>\n",
       "      <td>1.000000</td>\n",
       "      <td>0.900000</td>\n",
       "      <td>0.900000</td>\n",
       "      <td>0.900000</td>\n",
       "      <td>0.900000</td>\n",
       "      <td>0.900000</td>\n",
       "      <td>0.900000</td>\n",
       "      <td>0.900000</td>\n",
       "      <td>0.900000</td>\n",
       "      <td>0.900000</td>\n",
       "      <td>0.763186</td>\n",
       "      <td>0.900000</td>\n",
       "      <td>0.763186</td>\n",
       "      <td>0.440145</td>\n",
       "      <td>0.899837</td>\n",
       "      <td>0.212548</td>\n",
       "      <td>0.440145</td>\n",
       "      <td>0.149700</td>\n",
       "      <td>0.717635</td>\n",
       "    </tr>\n",
       "    <tr>\n",
       "      <th>2</th>\n",
       "      <td>0.900000</td>\n",
       "      <td>0.900000</td>\n",
       "      <td>1.000000</td>\n",
       "      <td>0.900000</td>\n",
       "      <td>0.900000</td>\n",
       "      <td>0.900000</td>\n",
       "      <td>0.900000</td>\n",
       "      <td>0.900000</td>\n",
       "      <td>0.900000</td>\n",
       "      <td>0.900000</td>\n",
       "      <td>0.900000</td>\n",
       "      <td>0.626535</td>\n",
       "      <td>0.900000</td>\n",
       "      <td>0.626535</td>\n",
       "      <td>0.291376</td>\n",
       "      <td>0.763186</td>\n",
       "      <td>0.124999</td>\n",
       "      <td>0.291376</td>\n",
       "      <td>0.083958</td>\n",
       "      <td>0.580983</td>\n",
       "    </tr>\n",
       "    <tr>\n",
       "      <th>3</th>\n",
       "      <td>0.900000</td>\n",
       "      <td>0.900000</td>\n",
       "      <td>0.900000</td>\n",
       "      <td>1.000000</td>\n",
       "      <td>0.900000</td>\n",
       "      <td>0.900000</td>\n",
       "      <td>0.900000</td>\n",
       "      <td>0.900000</td>\n",
       "      <td>0.900000</td>\n",
       "      <td>0.900000</td>\n",
       "      <td>0.900000</td>\n",
       "      <td>0.580983</td>\n",
       "      <td>0.900000</td>\n",
       "      <td>0.580983</td>\n",
       "      <td>0.249612</td>\n",
       "      <td>0.717635</td>\n",
       "      <td>0.102152</td>\n",
       "      <td>0.249612</td>\n",
       "      <td>0.067895</td>\n",
       "      <td>0.535431</td>\n",
       "    </tr>\n",
       "    <tr>\n",
       "      <th>4</th>\n",
       "      <td>0.900000</td>\n",
       "      <td>0.900000</td>\n",
       "      <td>0.900000</td>\n",
       "      <td>0.900000</td>\n",
       "      <td>1.000000</td>\n",
       "      <td>0.900000</td>\n",
       "      <td>0.900000</td>\n",
       "      <td>0.900000</td>\n",
       "      <td>0.900000</td>\n",
       "      <td>0.900000</td>\n",
       "      <td>0.900000</td>\n",
       "      <td>0.808736</td>\n",
       "      <td>0.900000</td>\n",
       "      <td>0.808736</td>\n",
       "      <td>0.489674</td>\n",
       "      <td>0.900000</td>\n",
       "      <td>0.249612</td>\n",
       "      <td>0.489674</td>\n",
       "      <td>0.178781</td>\n",
       "      <td>0.763186</td>\n",
       "    </tr>\n",
       "    <tr>\n",
       "      <th>5</th>\n",
       "      <td>0.900000</td>\n",
       "      <td>0.900000</td>\n",
       "      <td>0.900000</td>\n",
       "      <td>0.900000</td>\n",
       "      <td>0.900000</td>\n",
       "      <td>1.000000</td>\n",
       "      <td>0.900000</td>\n",
       "      <td>0.900000</td>\n",
       "      <td>0.900000</td>\n",
       "      <td>0.900000</td>\n",
       "      <td>0.900000</td>\n",
       "      <td>0.900000</td>\n",
       "      <td>0.900000</td>\n",
       "      <td>0.900000</td>\n",
       "      <td>0.763186</td>\n",
       "      <td>0.900000</td>\n",
       "      <td>0.535431</td>\n",
       "      <td>0.763186</td>\n",
       "      <td>0.440145</td>\n",
       "      <td>0.900000</td>\n",
       "    </tr>\n",
       "    <tr>\n",
       "      <th>6</th>\n",
       "      <td>0.900000</td>\n",
       "      <td>0.900000</td>\n",
       "      <td>0.900000</td>\n",
       "      <td>0.900000</td>\n",
       "      <td>0.900000</td>\n",
       "      <td>0.900000</td>\n",
       "      <td>1.000000</td>\n",
       "      <td>0.900000</td>\n",
       "      <td>0.900000</td>\n",
       "      <td>0.900000</td>\n",
       "      <td>0.900000</td>\n",
       "      <td>0.900000</td>\n",
       "      <td>0.900000</td>\n",
       "      <td>0.900000</td>\n",
       "      <td>0.808736</td>\n",
       "      <td>0.900000</td>\n",
       "      <td>0.580983</td>\n",
       "      <td>0.808736</td>\n",
       "      <td>0.489674</td>\n",
       "      <td>0.900000</td>\n",
       "    </tr>\n",
       "    <tr>\n",
       "      <th>7</th>\n",
       "      <td>0.900000</td>\n",
       "      <td>0.900000</td>\n",
       "      <td>0.900000</td>\n",
       "      <td>0.900000</td>\n",
       "      <td>0.900000</td>\n",
       "      <td>0.900000</td>\n",
       "      <td>0.900000</td>\n",
       "      <td>1.000000</td>\n",
       "      <td>0.900000</td>\n",
       "      <td>0.900000</td>\n",
       "      <td>0.900000</td>\n",
       "      <td>0.900000</td>\n",
       "      <td>0.900000</td>\n",
       "      <td>0.900000</td>\n",
       "      <td>0.900000</td>\n",
       "      <td>0.900000</td>\n",
       "      <td>0.900000</td>\n",
       "      <td>0.900000</td>\n",
       "      <td>0.854289</td>\n",
       "      <td>0.900000</td>\n",
       "    </tr>\n",
       "    <tr>\n",
       "      <th>8</th>\n",
       "      <td>0.900000</td>\n",
       "      <td>0.900000</td>\n",
       "      <td>0.900000</td>\n",
       "      <td>0.900000</td>\n",
       "      <td>0.900000</td>\n",
       "      <td>0.900000</td>\n",
       "      <td>0.900000</td>\n",
       "      <td>0.900000</td>\n",
       "      <td>1.000000</td>\n",
       "      <td>0.900000</td>\n",
       "      <td>0.900000</td>\n",
       "      <td>0.900000</td>\n",
       "      <td>0.900000</td>\n",
       "      <td>0.900000</td>\n",
       "      <td>0.900000</td>\n",
       "      <td>0.900000</td>\n",
       "      <td>0.900000</td>\n",
       "      <td>0.900000</td>\n",
       "      <td>0.854289</td>\n",
       "      <td>0.900000</td>\n",
       "    </tr>\n",
       "    <tr>\n",
       "      <th>9</th>\n",
       "      <td>0.854289</td>\n",
       "      <td>0.900000</td>\n",
       "      <td>0.900000</td>\n",
       "      <td>0.900000</td>\n",
       "      <td>0.900000</td>\n",
       "      <td>0.900000</td>\n",
       "      <td>0.900000</td>\n",
       "      <td>0.900000</td>\n",
       "      <td>0.900000</td>\n",
       "      <td>1.000000</td>\n",
       "      <td>0.900000</td>\n",
       "      <td>0.900000</td>\n",
       "      <td>0.900000</td>\n",
       "      <td>0.900000</td>\n",
       "      <td>0.900000</td>\n",
       "      <td>0.900000</td>\n",
       "      <td>0.900000</td>\n",
       "      <td>0.900000</td>\n",
       "      <td>0.900000</td>\n",
       "      <td>0.900000</td>\n",
       "    </tr>\n",
       "    <tr>\n",
       "      <th>10</th>\n",
       "      <td>0.763186</td>\n",
       "      <td>0.900000</td>\n",
       "      <td>0.900000</td>\n",
       "      <td>0.900000</td>\n",
       "      <td>0.900000</td>\n",
       "      <td>0.900000</td>\n",
       "      <td>0.900000</td>\n",
       "      <td>0.900000</td>\n",
       "      <td>0.900000</td>\n",
       "      <td>0.900000</td>\n",
       "      <td>1.000000</td>\n",
       "      <td>0.900000</td>\n",
       "      <td>0.900000</td>\n",
       "      <td>0.900000</td>\n",
       "      <td>0.900000</td>\n",
       "      <td>0.900000</td>\n",
       "      <td>0.900000</td>\n",
       "      <td>0.900000</td>\n",
       "      <td>0.900000</td>\n",
       "      <td>0.900000</td>\n",
       "    </tr>\n",
       "    <tr>\n",
       "      <th>11</th>\n",
       "      <td>0.336284</td>\n",
       "      <td>0.763186</td>\n",
       "      <td>0.626535</td>\n",
       "      <td>0.580983</td>\n",
       "      <td>0.808736</td>\n",
       "      <td>0.900000</td>\n",
       "      <td>0.900000</td>\n",
       "      <td>0.900000</td>\n",
       "      <td>0.900000</td>\n",
       "      <td>0.900000</td>\n",
       "      <td>0.900000</td>\n",
       "      <td>1.000000</td>\n",
       "      <td>0.900000</td>\n",
       "      <td>0.900000</td>\n",
       "      <td>0.900000</td>\n",
       "      <td>0.900000</td>\n",
       "      <td>0.900000</td>\n",
       "      <td>0.900000</td>\n",
       "      <td>0.900000</td>\n",
       "      <td>0.900000</td>\n",
       "    </tr>\n",
       "    <tr>\n",
       "      <th>12</th>\n",
       "      <td>0.899837</td>\n",
       "      <td>0.900000</td>\n",
       "      <td>0.900000</td>\n",
       "      <td>0.900000</td>\n",
       "      <td>0.900000</td>\n",
       "      <td>0.900000</td>\n",
       "      <td>0.900000</td>\n",
       "      <td>0.900000</td>\n",
       "      <td>0.900000</td>\n",
       "      <td>0.900000</td>\n",
       "      <td>0.900000</td>\n",
       "      <td>0.900000</td>\n",
       "      <td>1.000000</td>\n",
       "      <td>0.900000</td>\n",
       "      <td>0.900000</td>\n",
       "      <td>0.900000</td>\n",
       "      <td>0.900000</td>\n",
       "      <td>0.900000</td>\n",
       "      <td>0.900000</td>\n",
       "      <td>0.900000</td>\n",
       "    </tr>\n",
       "    <tr>\n",
       "      <th>13</th>\n",
       "      <td>0.336284</td>\n",
       "      <td>0.763186</td>\n",
       "      <td>0.626535</td>\n",
       "      <td>0.580983</td>\n",
       "      <td>0.808736</td>\n",
       "      <td>0.900000</td>\n",
       "      <td>0.900000</td>\n",
       "      <td>0.900000</td>\n",
       "      <td>0.900000</td>\n",
       "      <td>0.900000</td>\n",
       "      <td>0.900000</td>\n",
       "      <td>0.900000</td>\n",
       "      <td>0.900000</td>\n",
       "      <td>1.000000</td>\n",
       "      <td>0.900000</td>\n",
       "      <td>0.900000</td>\n",
       "      <td>0.900000</td>\n",
       "      <td>0.900000</td>\n",
       "      <td>0.900000</td>\n",
       "      <td>0.900000</td>\n",
       "    </tr>\n",
       "    <tr>\n",
       "      <th>14</th>\n",
       "      <td>0.102152</td>\n",
       "      <td>0.440145</td>\n",
       "      <td>0.291376</td>\n",
       "      <td>0.249612</td>\n",
       "      <td>0.489674</td>\n",
       "      <td>0.763186</td>\n",
       "      <td>0.808736</td>\n",
       "      <td>0.900000</td>\n",
       "      <td>0.900000</td>\n",
       "      <td>0.900000</td>\n",
       "      <td>0.900000</td>\n",
       "      <td>0.900000</td>\n",
       "      <td>0.900000</td>\n",
       "      <td>0.900000</td>\n",
       "      <td>1.000000</td>\n",
       "      <td>0.900000</td>\n",
       "      <td>0.900000</td>\n",
       "      <td>0.900000</td>\n",
       "      <td>0.900000</td>\n",
       "      <td>0.900000</td>\n",
       "    </tr>\n",
       "    <tr>\n",
       "      <th>15</th>\n",
       "      <td>0.489674</td>\n",
       "      <td>0.899837</td>\n",
       "      <td>0.763186</td>\n",
       "      <td>0.717635</td>\n",
       "      <td>0.900000</td>\n",
       "      <td>0.900000</td>\n",
       "      <td>0.900000</td>\n",
       "      <td>0.900000</td>\n",
       "      <td>0.900000</td>\n",
       "      <td>0.900000</td>\n",
       "      <td>0.900000</td>\n",
       "      <td>0.900000</td>\n",
       "      <td>0.900000</td>\n",
       "      <td>0.900000</td>\n",
       "      <td>0.900000</td>\n",
       "      <td>1.000000</td>\n",
       "      <td>0.900000</td>\n",
       "      <td>0.900000</td>\n",
       "      <td>0.900000</td>\n",
       "      <td>0.900000</td>\n",
       "    </tr>\n",
       "    <tr>\n",
       "      <th>16</th>\n",
       "      <td>0.034287</td>\n",
       "      <td>0.212548</td>\n",
       "      <td>0.124999</td>\n",
       "      <td>0.102152</td>\n",
       "      <td>0.249612</td>\n",
       "      <td>0.535431</td>\n",
       "      <td>0.580983</td>\n",
       "      <td>0.900000</td>\n",
       "      <td>0.900000</td>\n",
       "      <td>0.900000</td>\n",
       "      <td>0.900000</td>\n",
       "      <td>0.900000</td>\n",
       "      <td>0.900000</td>\n",
       "      <td>0.900000</td>\n",
       "      <td>0.900000</td>\n",
       "      <td>0.900000</td>\n",
       "      <td>1.000000</td>\n",
       "      <td>0.900000</td>\n",
       "      <td>0.900000</td>\n",
       "      <td>0.900000</td>\n",
       "    </tr>\n",
       "    <tr>\n",
       "      <th>17</th>\n",
       "      <td>0.102152</td>\n",
       "      <td>0.440145</td>\n",
       "      <td>0.291376</td>\n",
       "      <td>0.249612</td>\n",
       "      <td>0.489674</td>\n",
       "      <td>0.763186</td>\n",
       "      <td>0.808736</td>\n",
       "      <td>0.900000</td>\n",
       "      <td>0.900000</td>\n",
       "      <td>0.900000</td>\n",
       "      <td>0.900000</td>\n",
       "      <td>0.900000</td>\n",
       "      <td>0.900000</td>\n",
       "      <td>0.900000</td>\n",
       "      <td>0.900000</td>\n",
       "      <td>0.900000</td>\n",
       "      <td>0.900000</td>\n",
       "      <td>1.000000</td>\n",
       "      <td>0.900000</td>\n",
       "      <td>0.900000</td>\n",
       "    </tr>\n",
       "    <tr>\n",
       "      <th>18</th>\n",
       "      <td>0.021016</td>\n",
       "      <td>0.149700</td>\n",
       "      <td>0.083958</td>\n",
       "      <td>0.067895</td>\n",
       "      <td>0.178781</td>\n",
       "      <td>0.440145</td>\n",
       "      <td>0.489674</td>\n",
       "      <td>0.854289</td>\n",
       "      <td>0.854289</td>\n",
       "      <td>0.900000</td>\n",
       "      <td>0.900000</td>\n",
       "      <td>0.900000</td>\n",
       "      <td>0.900000</td>\n",
       "      <td>0.900000</td>\n",
       "      <td>0.900000</td>\n",
       "      <td>0.900000</td>\n",
       "      <td>0.900000</td>\n",
       "      <td>0.900000</td>\n",
       "      <td>1.000000</td>\n",
       "      <td>0.900000</td>\n",
       "    </tr>\n",
       "    <tr>\n",
       "      <th>19</th>\n",
       "      <td>0.291376</td>\n",
       "      <td>0.717635</td>\n",
       "      <td>0.580983</td>\n",
       "      <td>0.535431</td>\n",
       "      <td>0.763186</td>\n",
       "      <td>0.900000</td>\n",
       "      <td>0.900000</td>\n",
       "      <td>0.900000</td>\n",
       "      <td>0.900000</td>\n",
       "      <td>0.900000</td>\n",
       "      <td>0.900000</td>\n",
       "      <td>0.900000</td>\n",
       "      <td>0.900000</td>\n",
       "      <td>0.900000</td>\n",
       "      <td>0.900000</td>\n",
       "      <td>0.900000</td>\n",
       "      <td>0.900000</td>\n",
       "      <td>0.900000</td>\n",
       "      <td>0.900000</td>\n",
       "      <td>1.000000</td>\n",
       "    </tr>\n",
       "  </tbody>\n",
       "</table>\n",
       "</div>"
      ],
      "text/plain": [
       "           0         1         2         3         4         5         6  \\\n",
       "0   1.000000  0.900000  0.900000  0.900000  0.900000  0.900000  0.900000   \n",
       "1   0.900000  1.000000  0.900000  0.900000  0.900000  0.900000  0.900000   \n",
       "2   0.900000  0.900000  1.000000  0.900000  0.900000  0.900000  0.900000   \n",
       "3   0.900000  0.900000  0.900000  1.000000  0.900000  0.900000  0.900000   \n",
       "4   0.900000  0.900000  0.900000  0.900000  1.000000  0.900000  0.900000   \n",
       "5   0.900000  0.900000  0.900000  0.900000  0.900000  1.000000  0.900000   \n",
       "6   0.900000  0.900000  0.900000  0.900000  0.900000  0.900000  1.000000   \n",
       "7   0.900000  0.900000  0.900000  0.900000  0.900000  0.900000  0.900000   \n",
       "8   0.900000  0.900000  0.900000  0.900000  0.900000  0.900000  0.900000   \n",
       "9   0.854289  0.900000  0.900000  0.900000  0.900000  0.900000  0.900000   \n",
       "10  0.763186  0.900000  0.900000  0.900000  0.900000  0.900000  0.900000   \n",
       "11  0.336284  0.763186  0.626535  0.580983  0.808736  0.900000  0.900000   \n",
       "12  0.899837  0.900000  0.900000  0.900000  0.900000  0.900000  0.900000   \n",
       "13  0.336284  0.763186  0.626535  0.580983  0.808736  0.900000  0.900000   \n",
       "14  0.102152  0.440145  0.291376  0.249612  0.489674  0.763186  0.808736   \n",
       "15  0.489674  0.899837  0.763186  0.717635  0.900000  0.900000  0.900000   \n",
       "16  0.034287  0.212548  0.124999  0.102152  0.249612  0.535431  0.580983   \n",
       "17  0.102152  0.440145  0.291376  0.249612  0.489674  0.763186  0.808736   \n",
       "18  0.021016  0.149700  0.083958  0.067895  0.178781  0.440145  0.489674   \n",
       "19  0.291376  0.717635  0.580983  0.535431  0.763186  0.900000  0.900000   \n",
       "\n",
       "           7         8         9        10        11        12        13  \\\n",
       "0   0.900000  0.900000  0.854289  0.763186  0.336284  0.899837  0.336284   \n",
       "1   0.900000  0.900000  0.900000  0.900000  0.763186  0.900000  0.763186   \n",
       "2   0.900000  0.900000  0.900000  0.900000  0.626535  0.900000  0.626535   \n",
       "3   0.900000  0.900000  0.900000  0.900000  0.580983  0.900000  0.580983   \n",
       "4   0.900000  0.900000  0.900000  0.900000  0.808736  0.900000  0.808736   \n",
       "5   0.900000  0.900000  0.900000  0.900000  0.900000  0.900000  0.900000   \n",
       "6   0.900000  0.900000  0.900000  0.900000  0.900000  0.900000  0.900000   \n",
       "7   1.000000  0.900000  0.900000  0.900000  0.900000  0.900000  0.900000   \n",
       "8   0.900000  1.000000  0.900000  0.900000  0.900000  0.900000  0.900000   \n",
       "9   0.900000  0.900000  1.000000  0.900000  0.900000  0.900000  0.900000   \n",
       "10  0.900000  0.900000  0.900000  1.000000  0.900000  0.900000  0.900000   \n",
       "11  0.900000  0.900000  0.900000  0.900000  1.000000  0.900000  0.900000   \n",
       "12  0.900000  0.900000  0.900000  0.900000  0.900000  1.000000  0.900000   \n",
       "13  0.900000  0.900000  0.900000  0.900000  0.900000  0.900000  1.000000   \n",
       "14  0.900000  0.900000  0.900000  0.900000  0.900000  0.900000  0.900000   \n",
       "15  0.900000  0.900000  0.900000  0.900000  0.900000  0.900000  0.900000   \n",
       "16  0.900000  0.900000  0.900000  0.900000  0.900000  0.900000  0.900000   \n",
       "17  0.900000  0.900000  0.900000  0.900000  0.900000  0.900000  0.900000   \n",
       "18  0.854289  0.854289  0.900000  0.900000  0.900000  0.900000  0.900000   \n",
       "19  0.900000  0.900000  0.900000  0.900000  0.900000  0.900000  0.900000   \n",
       "\n",
       "          14        15        16        17        18        19  \n",
       "0   0.102152  0.489674  0.034287  0.102152  0.021016  0.291376  \n",
       "1   0.440145  0.899837  0.212548  0.440145  0.149700  0.717635  \n",
       "2   0.291376  0.763186  0.124999  0.291376  0.083958  0.580983  \n",
       "3   0.249612  0.717635  0.102152  0.249612  0.067895  0.535431  \n",
       "4   0.489674  0.900000  0.249612  0.489674  0.178781  0.763186  \n",
       "5   0.763186  0.900000  0.535431  0.763186  0.440145  0.900000  \n",
       "6   0.808736  0.900000  0.580983  0.808736  0.489674  0.900000  \n",
       "7   0.900000  0.900000  0.900000  0.900000  0.854289  0.900000  \n",
       "8   0.900000  0.900000  0.900000  0.900000  0.854289  0.900000  \n",
       "9   0.900000  0.900000  0.900000  0.900000  0.900000  0.900000  \n",
       "10  0.900000  0.900000  0.900000  0.900000  0.900000  0.900000  \n",
       "11  0.900000  0.900000  0.900000  0.900000  0.900000  0.900000  \n",
       "12  0.900000  0.900000  0.900000  0.900000  0.900000  0.900000  \n",
       "13  0.900000  0.900000  0.900000  0.900000  0.900000  0.900000  \n",
       "14  1.000000  0.900000  0.900000  0.900000  0.900000  0.900000  \n",
       "15  0.900000  1.000000  0.900000  0.900000  0.900000  0.900000  \n",
       "16  0.900000  0.900000  1.000000  0.900000  0.900000  0.900000  \n",
       "17  0.900000  0.900000  0.900000  1.000000  0.900000  0.900000  \n",
       "18  0.900000  0.900000  0.900000  0.900000  1.000000  0.900000  \n",
       "19  0.900000  0.900000  0.900000  0.900000  0.900000  1.000000  "
      ]
     },
     "execution_count": 40,
     "metadata": {},
     "output_type": "execute_result"
    }
   ],
   "source": [
    "data1 = np.array(bağ2)\n",
    "sp.posthoc_nemenyi_friedman(bağ2)"
   ]
  },
  {
   "cell_type": "code",
   "execution_count": null,
   "metadata": {},
   "outputs": [
    {
     "data": {
      "text/html": [
       "<div>\n",
       "<style scoped>\n",
       "    .dataframe tbody tr th:only-of-type {\n",
       "        vertical-align: middle;\n",
       "    }\n",
       "\n",
       "    .dataframe tbody tr th {\n",
       "        vertical-align: top;\n",
       "    }\n",
       "\n",
       "    .dataframe thead th {\n",
       "        text-align: right;\n",
       "    }\n",
       "</style>\n",
       "<table border=\"1\" class=\"dataframe\">\n",
       "  <thead>\n",
       "    <tr style=\"text-align: right;\">\n",
       "      <th></th>\n",
       "      <th>1</th>\n",
       "      <th>2</th>\n",
       "      <th>3</th>\n",
       "    </tr>\n",
       "  </thead>\n",
       "  <tbody>\n",
       "    <tr>\n",
       "      <th>1</th>\n",
       "      <td>1.000000</td>\n",
       "      <td>1.000000</td>\n",
       "      <td>0.026298</td>\n",
       "    </tr>\n",
       "    <tr>\n",
       "      <th>2</th>\n",
       "      <td>1.000000</td>\n",
       "      <td>1.000000</td>\n",
       "      <td>0.268768</td>\n",
       "    </tr>\n",
       "    <tr>\n",
       "      <th>3</th>\n",
       "      <td>0.026298</td>\n",
       "      <td>0.268768</td>\n",
       "      <td>1.000000</td>\n",
       "    </tr>\n",
       "  </tbody>\n",
       "</table>\n",
       "</div>"
      ],
      "text/plain": [
       "          1         2         3\n",
       "1  1.000000  1.000000  0.026298\n",
       "2  1.000000  1.000000  0.268768\n",
       "3  0.026298  0.268768  1.000000"
      ]
     },
     "execution_count": 41,
     "metadata": {},
     "output_type": "execute_result"
    }
   ],
   "source": [
    "sp.posthoc_dunn(data1, p_adjust = 'bonferroni')"
   ]
  },
  {
   "cell_type": "code",
   "execution_count": null,
   "metadata": {},
   "outputs": [],
   "source": []
  },
  {
   "cell_type": "code",
   "execution_count": null,
   "metadata": {},
   "outputs": [
    {
     "data": {
      "text/html": [
       "<div>\n",
       "<style scoped>\n",
       "    .dataframe tbody tr th:only-of-type {\n",
       "        vertical-align: middle;\n",
       "    }\n",
       "\n",
       "    .dataframe tbody tr th {\n",
       "        vertical-align: top;\n",
       "    }\n",
       "\n",
       "    .dataframe thead th {\n",
       "        text-align: right;\n",
       "    }\n",
       "</style>\n",
       "<table border=\"1\" class=\"dataframe\">\n",
       "  <thead>\n",
       "    <tr style=\"text-align: right;\">\n",
       "      <th></th>\n",
       "      <th>gün</th>\n",
       "      <th>derece</th>\n",
       "    </tr>\n",
       "  </thead>\n",
       "  <tbody>\n",
       "    <tr>\n",
       "      <th>0</th>\n",
       "      <td>2009-02-01</td>\n",
       "      <td>32.6</td>\n",
       "    </tr>\n",
       "    <tr>\n",
       "      <th>1</th>\n",
       "      <td>2009-02-02</td>\n",
       "      <td>24.4</td>\n",
       "    </tr>\n",
       "    <tr>\n",
       "      <th>2</th>\n",
       "      <td>2009-02-03</td>\n",
       "      <td>21.5</td>\n",
       "    </tr>\n",
       "    <tr>\n",
       "      <th>3</th>\n",
       "      <td>2009-02-04</td>\n",
       "      <td>21.7</td>\n",
       "    </tr>\n",
       "    <tr>\n",
       "      <th>4</th>\n",
       "      <td>2009-02-05</td>\n",
       "      <td>21.5</td>\n",
       "    </tr>\n",
       "    <tr>\n",
       "      <th>5</th>\n",
       "      <td>2009-02-06</td>\n",
       "      <td>23.5</td>\n",
       "    </tr>\n",
       "    <tr>\n",
       "      <th>6</th>\n",
       "      <td>2009-02-07</td>\n",
       "      <td>22.3</td>\n",
       "    </tr>\n",
       "    <tr>\n",
       "      <th>7</th>\n",
       "      <td>2009-02-08</td>\n",
       "      <td>28.3</td>\n",
       "    </tr>\n",
       "    <tr>\n",
       "      <th>8</th>\n",
       "      <td>2009-02-09</td>\n",
       "      <td>18.4</td>\n",
       "    </tr>\n",
       "    <tr>\n",
       "      <th>9</th>\n",
       "      <td>2009-02-10</td>\n",
       "      <td>14.9</td>\n",
       "    </tr>\n",
       "    <tr>\n",
       "      <th>10</th>\n",
       "      <td>2009-02-11</td>\n",
       "      <td>13.5</td>\n",
       "    </tr>\n",
       "    <tr>\n",
       "      <th>11</th>\n",
       "      <td>2009-02-12</td>\n",
       "      <td>16.1</td>\n",
       "    </tr>\n",
       "    <tr>\n",
       "      <th>12</th>\n",
       "      <td>2009-02-13</td>\n",
       "      <td>14.6</td>\n",
       "    </tr>\n",
       "    <tr>\n",
       "      <th>13</th>\n",
       "      <td>2009-02-14</td>\n",
       "      <td>12.4</td>\n",
       "    </tr>\n",
       "    <tr>\n",
       "      <th>14</th>\n",
       "      <td>2009-02-15</td>\n",
       "      <td>13.3</td>\n",
       "    </tr>\n",
       "    <tr>\n",
       "      <th>15</th>\n",
       "      <td>2009-02-16</td>\n",
       "      <td>17.2</td>\n",
       "    </tr>\n",
       "    <tr>\n",
       "      <th>16</th>\n",
       "      <td>2009-02-17</td>\n",
       "      <td>12.5</td>\n",
       "    </tr>\n",
       "    <tr>\n",
       "      <th>17</th>\n",
       "      <td>2009-02-18</td>\n",
       "      <td>18.0</td>\n",
       "    </tr>\n",
       "    <tr>\n",
       "      <th>18</th>\n",
       "      <td>2009-02-19</td>\n",
       "      <td>16.2</td>\n",
       "    </tr>\n",
       "    <tr>\n",
       "      <th>19</th>\n",
       "      <td>2009-02-20</td>\n",
       "      <td>18.7</td>\n",
       "    </tr>\n",
       "    <tr>\n",
       "      <th>20</th>\n",
       "      <td>2009-02-21</td>\n",
       "      <td>13.7</td>\n",
       "    </tr>\n",
       "    <tr>\n",
       "      <th>21</th>\n",
       "      <td>2009-02-22</td>\n",
       "      <td>15.5</td>\n",
       "    </tr>\n",
       "    <tr>\n",
       "      <th>22</th>\n",
       "      <td>2009-02-23</td>\n",
       "      <td>14.3</td>\n",
       "    </tr>\n",
       "    <tr>\n",
       "      <th>23</th>\n",
       "      <td>2009-02-24</td>\n",
       "      <td>12.9</td>\n",
       "    </tr>\n",
       "    <tr>\n",
       "      <th>24</th>\n",
       "      <td>2009-02-25</td>\n",
       "      <td>8.9</td>\n",
       "    </tr>\n",
       "    <tr>\n",
       "      <th>25</th>\n",
       "      <td>2009-02-26</td>\n",
       "      <td>15.0</td>\n",
       "    </tr>\n",
       "    <tr>\n",
       "      <th>26</th>\n",
       "      <td>2009-02-27</td>\n",
       "      <td>15.4</td>\n",
       "    </tr>\n",
       "    <tr>\n",
       "      <th>27</th>\n",
       "      <td>2009-02-28</td>\n",
       "      <td>16.0</td>\n",
       "    </tr>\n",
       "  </tbody>\n",
       "</table>\n",
       "</div>"
      ],
      "text/plain": [
       "          gün  derece\n",
       "0  2009-02-01    32.6\n",
       "1  2009-02-02    24.4\n",
       "2  2009-02-03    21.5\n",
       "3  2009-02-04    21.7\n",
       "4  2009-02-05    21.5\n",
       "5  2009-02-06    23.5\n",
       "6  2009-02-07    22.3\n",
       "7  2009-02-08    28.3\n",
       "8  2009-02-09    18.4\n",
       "9  2009-02-10    14.9\n",
       "10 2009-02-11    13.5\n",
       "11 2009-02-12    16.1\n",
       "12 2009-02-13    14.6\n",
       "13 2009-02-14    12.4\n",
       "14 2009-02-15    13.3\n",
       "15 2009-02-16    17.2\n",
       "16 2009-02-17    12.5\n",
       "17 2009-02-18    18.0\n",
       "18 2009-02-19    16.2\n",
       "19 2009-02-20    18.7\n",
       "20 2009-02-21    13.7\n",
       "21 2009-02-22    15.5\n",
       "22 2009-02-23    14.3\n",
       "23 2009-02-24    12.9\n",
       "24 2009-02-25     8.9\n",
       "25 2009-02-26    15.0\n",
       "26 2009-02-27    15.4\n",
       "27 2009-02-28    16.0"
      ]
     },
     "execution_count": 42,
     "metadata": {},
     "output_type": "execute_result"
    }
   ],
   "source": [
    "test = pd.read_excel(r'C:\\Users\\pc\\Desktop\\nanpar veriler\\test.xlsx')\n",
    "test\n"
   ]
  },
  {
   "cell_type": "code",
   "execution_count": null,
   "metadata": {},
   "outputs": [
    {
     "data": {
      "text/plain": [
       "Mann_Kendall_Test(trend='decreasing', h=True, p=0.0006768596985562425, z=-3.3987847243535483, Tau=-0.4576719576719577, s=-173.0, var_s=2561.0, slope=-0.390909090909091, intercept=21.327272727272728)"
      ]
     },
     "execution_count": 43,
     "metadata": {},
     "output_type": "execute_result"
    }
   ],
   "source": [
    "import pymannkendall as mk\n",
    "test1 = np.array(test.derece)\n",
    "mk.original_test(test1)"
   ]
  }
 ],
 "metadata": {
  "kernelspec": {
   "display_name": "Python 3",
   "language": "python",
   "name": "python3"
  },
  "language_info": {
   "codemirror_mode": {
    "name": "ipython",
    "version": 3
   },
   "file_extension": ".py",
   "mimetype": "text/x-python",
   "name": "python",
   "nbconvert_exporter": "python",
   "pygments_lexer": "ipython3",
   "version": "3.11.4"
  }
 },
 "nbformat": 4,
 "nbformat_minor": 2
}
